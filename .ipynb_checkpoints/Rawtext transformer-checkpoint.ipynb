{
 "cells": [
  {
   "cell_type": "code",
   "execution_count": 56,
   "id": "52240ab6",
   "metadata": {},
   "outputs": [],
   "source": [
    "import pandas as pd\n",
    "text_df = pd.read_csv('rawtext.csv', index_col=0)"
   ]
  },
  {
   "cell_type": "code",
   "execution_count": 57,
   "id": "a71a5fdf",
   "metadata": {},
   "outputs": [],
   "source": [
    "final_text = []\n",
    "for index, row in text_df.iterrows():\n",
    "#    print(row)\n",
    "    new_text = row\n",
    "    final_text.extend(new_text)"
   ]
  },
  {
   "cell_type": "code",
   "execution_count": 58,
   "id": "0c356ffd",
   "metadata": {},
   "outputs": [],
   "source": [
    "final_df = pd.DataFrame(final_text)"
   ]
  },
  {
   "cell_type": "code",
   "execution_count": 59,
   "id": "7c420ec3",
   "metadata": {},
   "outputs": [],
   "source": [
    "final_df.columns = ['Text']"
   ]
  },
  {
   "cell_type": "code",
   "execution_count": 60,
   "id": "abe65817",
   "metadata": {},
   "outputs": [],
   "source": [
    "final_df.to_csv('finaltext.csv')"
   ]
  },
  {
   "cell_type": "code",
   "execution_count": null,
   "id": "a028a294",
   "metadata": {},
   "outputs": [],
   "source": []
  }
 ],
 "metadata": {
  "kernelspec": {
   "display_name": "Python 3",
   "language": "python",
   "name": "python3"
  },
  "language_info": {
   "codemirror_mode": {
    "name": "ipython",
    "version": 3
   },
   "file_extension": ".py",
   "mimetype": "text/x-python",
   "name": "python",
   "nbconvert_exporter": "python",
   "pygments_lexer": "ipython3",
   "version": "3.7.10"
  }
 },
 "nbformat": 4,
 "nbformat_minor": 5
}
