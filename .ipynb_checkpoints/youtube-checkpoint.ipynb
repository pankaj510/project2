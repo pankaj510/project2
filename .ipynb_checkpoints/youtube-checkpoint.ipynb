{
 "cells": [
  {
   "cell_type": "code",
   "execution_count": 1,
   "metadata": {},
   "outputs": [
    {
     "name": "stderr",
     "output_type": "stream",
     "text": [
      "\n",
      "Bad key \"text.kerning_factor\" on line 4 in\n",
      "C:\\Users\\ooika\\anaconda3\\envs\\pyvizenv\\lib\\site-packages\\matplotlib\\mpl-data\\stylelib\\_classic_test_patch.mplstyle.\n",
      "You probably need to get an updated matplotlibrc file from\n",
      "http://github.com/matplotlib/matplotlib/blob/master/matplotlibrc.template\n",
      "or from the matplotlib source distribution\n"
     ]
    }
   ],
   "source": [
    "import os\n",
    "from pathlib import Path\n",
    "import alpaca_trade_api as tradeapi\n",
    "import pandas as pd\n",
    "import numpy as np\n",
    "import datetime\n",
    "import time\n",
    "from dotenv import load_dotenv\n",
    "from textblob import TextBlob\n",
    "import sys, tweepy\n",
    "import matplotlib.pyplot as plt"
   ]
  },
  {
   "cell_type": "code",
   "execution_count": 2,
   "metadata": {},
   "outputs": [
    {
     "data": {
      "text/plain": [
       "True"
      ]
     },
     "execution_count": 2,
     "metadata": {},
     "output_type": "execute_result"
    }
   ],
   "source": [
    "# Load .env enviroment variables\n",
    "load_dotenv()"
   ]
  },
  {
   "cell_type": "code",
   "execution_count": 3,
   "metadata": {},
   "outputs": [],
   "source": [
    "# assign the values accordingly\n",
    "consumerKey = os.getenv(\"consumer_key\")\n",
    "consumerSecret = os.getenv(\"consumer_secret\")\n",
    "accessToken = os.getenv(\"access_token\")\n",
    "accessTokenSecret = os.getenv(\"access_token_secret\")\n",
    "\n",
    "# authorization of consumer key and consumer secret\n",
    "auth = tweepy.OAuthHandler(consumerKey, consumerSecret)\n",
    "\n",
    "# set access to user's access key and access secret\n",
    "auth.set_access_token(accessToken, accessTokenSecret)\n",
    "\n",
    "# calling the api\n",
    "api = tweepy.API(auth)\n",
    "#results = api.search_full_archive('project2', 'bitcoin', '202105081300', '202105091300', maxResults=10)\n",
    "#results"
   ]
  },
  {
   "cell_type": "code",
   "execution_count": 4,
   "metadata": {},
   "outputs": [
    {
     "name": "stdin",
     "output_type": "stream",
     "text": [
      "Enter keyword/hashtag to search about: australia\n",
      "Enter how many tweets to analyse 10\n"
     ]
    }
   ],
   "source": [
    "searchTerm = input(\"Enter keyword/hashtag to search about:\")\n",
    "noOfSearchTerms = int(input(\"Enter how many tweets to analyse\"))\n",
    "\n",
    "tweets = tweepy.Cursor(api.search, q=searchTerm, lang=\"English\").items(noOfSearchTerms)"
   ]
  },
  {
   "cell_type": "code",
   "execution_count": 8,
   "metadata": {},
   "outputs": [
    {
     "data": {
      "text/plain": [
       "-1.0"
      ]
     },
     "execution_count": 8,
     "metadata": {},
     "output_type": "execute_result"
    }
   ],
   "source": [
    "a = TextBlob(\"I am the worst programmer ever\")\n",
    "a.sentiment.polarity"
   ]
  },
  {
   "cell_type": "code",
   "execution_count": 6,
   "metadata": {},
   "outputs": [
    {
     "name": "stdout",
     "output_type": "stream",
     "text": [
      "How people are reacting on australia by analysing 10 Tweets.\n"
     ]
    }
   ],
   "source": [
    "positive = 0\n",
    "negative = 0\n",
    "neutral = 0\n",
    "polarity = 0\n",
    "\n",
    "for tweet in tweets:\n",
    "    print(tweet.text)\n",
    "    analysis = TextBlob(tweet.text)\n",
    "    polarity = analysis.sentiment.polarity\n",
    "    \n",
    "    if (analysis.sentiment.polarity == 0):\n",
    "        neutral += 1\n",
    "    elif (analysis.sentiment.polarity < 0.00):\n",
    "        negative += 1\n",
    "    elif (analysis.sentiment.polarity > 0.00):\n",
    "        positive += 1\n",
    "        \n",
    "def percentage(part, whole):\n",
    "    return 100*float(part)/float(whole)\n",
    "\n",
    "positive = percentage(positive, noOfSearchTerms)\n",
    "negatitve = percentage(negative, noOfSearchTerms)\n",
    "neutral = percentage(neutral, noOfSearchTerms)\n",
    "polarity = percentage(polarity, noOfSearchTerms)\n",
    "\n",
    "positive = format(positive, '.2f')\n",
    "neutral = format(neutral, '.2f')\n",
    "negative = format(negative, '.2f')\n",
    "\n",
    "print(\"How people are reacting on \" +  searchTerm  + \" by analysing \" + str(noOfSearchTerms) + \" Tweets.\")"
   ]
  },
  {
   "cell_type": "code",
   "execution_count": null,
   "metadata": {},
   "outputs": [],
   "source": []
  },
  {
   "cell_type": "code",
   "execution_count": 7,
   "metadata": {},
   "outputs": [
    {
     "name": "stdout",
     "output_type": "stream",
     "text": [
      "Neutral\n"
     ]
    },
    {
     "data": {
      "text/plain": [
       "<function matplotlib.pyplot.show(*args, **kw)>"
      ]
     },
     "execution_count": 7,
     "metadata": {},
     "output_type": "execute_result"
    },
    {
     "data": {
      "image/png": "[encoded data removed]",
      "text/plain": [
       "<Figure size 432x288 with 1 Axes>"
      ]
     },
     "metadata": {},
     "output_type": "display_data"
    }
   ],
   "source": [
    "if (polarity == 0):\n",
    "    print(\"Neutral\")\n",
    "elif (polarity < 0):\n",
    "    print(\"Negative\")\n",
    "elif (polarity > 0):\n",
    "    print(\"Positve\")\n",
    "    \n",
    "labels = ['Positive ['+ str(positive)+'%]','Neutral [' + str(neutral)+'%]', 'Negative[' + str(negative)+'%]']\n",
    "sizes = [positive, neutral, negative]\n",
    "colors = ['yellowgreen', 'gold', 'red']\n",
    "patches, texts = plt.pie(sizes, colors=colors, startangle=90)\n",
    "plt.legend(patches, labels, loc='best')\n",
    "plt.title(\"How people are reacting on \" +  searchTerm  + \" by analysing \" + str(noOfSearchTerms) + \" Tweets.\")\n",
    "plt.axis('equal')\n",
    "#plt.tight.layout()\n",
    "plt.show"
   ]
  },
  {
   "cell_type": "code",
   "execution_count": null,
   "metadata": {},
   "outputs": [],
   "source": []
  },
  {
   "cell_type": "code",
   "execution_count": null,
   "metadata": {},
   "outputs": [],
   "source": []
  }
 ],
 "metadata": {
  "kernelspec": {
   "display_name": "Python [conda env:pyvizenv] *",
   "language": "python",
   "name": "conda-env-pyvizenv-py"
  },
  "language_info": {
   "codemirror_mode": {
    "name": "ipython",
    "version": 3
   },
   "file_extension": ".py",
   "mimetype": "text/x-python",
   "name": "python",
   "nbconvert_exporter": "python",
   "pygments_lexer": "ipython3",
   "version": "3.7.9"
  }
 },
 "nbformat": 4,
 "nbformat_minor": 4
}
