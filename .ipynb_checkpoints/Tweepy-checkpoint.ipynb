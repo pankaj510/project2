{
 "cells": [
  {
   "cell_type": "code",
   "execution_count": 2,
   "metadata": {},
   "outputs": [
    {
     "name": "stdout",
     "output_type": "stream",
     "text": [
      "They need people to die of covid in front of them then they believe issit? https://t.co/UwDIgwpjHA\n",
      "RT @eadatt: 👀👀👀\n",
      "RT @ahegao_m4y: Full💰 + Transport PP🚕🙏\n",
      "Out📞 El*T 6Hrs Sentul✅\n",
      "Next??\n",
      "@KOMO_Yumm\n",
      "@KOMO_Kimm\n",
      "@KOMOpandaa\n",
      "@DolKOMO\n",
      "@KuyKOMO\n",
      "@KOMObboo\n",
      "@KOMOpea…\n",
      "Labour should be working with the Greens, not against them | Jonathan Bartley \n",
      "https://t.co/U5JyqXpcEI\n",
      "On this Memorial Day, we remember the fallen who have served our country. https://t.co/dPLQVRJdj6\n",
      "Any excuse for a @AllScrubsQuotes gif https://t.co/2fxkK9W8hE https://t.co/zdJ5lYVXkd\n",
      "🚨 Football Digest Extra Time this week...\n",
      "\n",
      "🎙 @AdamNewson and \n",
      "@GideonBrooks talk Chelsea's Champions League win, wh… https://t.co/4aTaLF2NTP\n",
      "Once I start watching Air Crash Investigation I have to see the episode through\n",
      "\n",
      "Impossible to finish watching before the end\n",
      "The argument over a deal with Australian beef producers has revealed the absence of a trade strategy post-Brexit https://t.co/AxdEdfX0zP\n",
      "A tall in the sights of Carlton Football Club and others can’t complete medicals after visiting a tier one exposure… https://t.co/mNzl9wS6Vs\n",
      "Are you a coach in the Biggleswade area? Beds/Herts zone? Come and have a chat with us https://t.co/FXQAYjOjLk\n",
      "Chat with... a billionaire.\n",
      "\n",
      "#comingsoon\n",
      "National Liquor Traders Council welcomes decision to not ban alcohol sales https://t.co/Qdncs2YUTh via @ewnupdates https://t.co/5muiO3JuYU\n",
      "Good luck @NewportCounty #wembleystadium #PlayOffFinal\n",
      "They say diamonds are forever, but it's become crystal clear the diamond industry is changing. https://t.co/dSAdcu9QEk\n",
      "Whale watching not one of five reasons to leave home, police warn https://t.co/NMVKT4jyim\n",
      "Virtual auctions back, property sells and another passes in https://t.co/g4UOyORimm\n",
      "NEW:  Contradictory reports emerge over Liverpool signing 17-year-old Ghana starlet  https://t.co/UIPkiK5hsr\n",
      "Truth??? #catfish https://t.co/QDLrIQ06H2\n",
      "Look what @flatb4ck have prepared for the release of the Maradona book! #BoyRebelGod\n",
      "\n",
      "📚 https://t.co/ftT1UjRwz2 https://t.co/PHSoB7F4Gg\n"
     ]
    }
   ],
   "source": [
    "#https://docs.tweepy.org/en/latest/getting_started.html\n",
    "#https://docs.tweepy.org/en/stable/api.html#API.search_full_archive\n",
    "    \n",
    "import tweepy\n",
    "\n",
    "# assign the values accordingly\n",
    "consumer_key = \"8NQfkjP2Wmn3H9BlyRsPIf2PQ\"\n",
    "consumer_secret = \"4f4FHUWUbxUOoixRaN3iy0ZrwkkkUXJokbo1JvrkeTkPeizxM9\"\n",
    "access_token = \"222088839-eeWtytUSOhstpQ402ZwY2mzOatD6Vt53pXbz4HWk\"\n",
    "access_token_secret = \"umkmyyNx5Yjuv5188oGWQgZPKuNmxcFhzsaA6RgfC1TCd\"\n",
    "\n",
    "auth = tweepy.OAuthHandler(consumer_key, consumer_secret)\n",
    "auth.set_access_token(access_token, access_token_secret)\n",
    "\n",
    "api = tweepy.API(auth)\n",
    "\n",
    "public_tweets = api.home_timeline()\n",
    "for tweet in public_tweets:\n",
    "    print(tweet.text)"
   ]
  },
  {
   "cell_type": "code",
   "execution_count": null,
   "metadata": {},
   "outputs": [],
   "source": []
  }
 ],
 "metadata": {
  "kernelspec": {
   "display_name": "Python [conda env:pyvizenv] *",
   "language": "python",
   "name": "conda-env-pyvizenv-py"
  },
  "language_info": {
   "codemirror_mode": {
    "name": "ipython",
    "version": 3
   },
   "file_extension": ".py",
   "mimetype": "text/x-python",
   "name": "python",
   "nbconvert_exporter": "python",
   "pygments_lexer": "ipython3",
   "version": "3.7.9"
  }
 },
 "nbformat": 4,
 "nbformat_minor": 4
}
