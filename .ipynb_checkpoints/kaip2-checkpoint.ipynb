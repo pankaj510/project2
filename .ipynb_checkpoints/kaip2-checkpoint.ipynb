{
 "cells": [
  {
   "cell_type": "code",
   "execution_count": 3,
   "metadata": {},
   "outputs": [
    {
     "name": "stdout",
     "output_type": "stream",
     "text": [
      "BUY\n",
      "BUY\n"
     ]
    }
   ],
   "source": [
    "from pattern.web import Twitter\n",
    "from pattern.en import tag\n",
    "from pattern.vector import KNN, count\n",
    "\n",
    "twitter, knn = Twitter(), KNN()\n",
    "\n",
    "for i in range(1, 3):\n",
    "    for tweet in twitter.search('#buy OR #sell', start=i, count=100):\n",
    "        s = tweet.text.lower()\n",
    "        p = '#buy' in s and 'BUY' or 'SELL'\n",
    "        v = tag(s)\n",
    "        v = [word for word, pos in v if pos == 'JJ'] # JJ = adjective\n",
    "        v = count(v) # {'sweet': 1}\n",
    "        if v:\n",
    "            knn.train(v, type=p)\n",
    "\n",
    "print(knn.classify('bitcoin'))\n",
    "\n",
    "print(knn.classify('safemoon'))"
   ]
  },
  {
   "cell_type": "code",
   "execution_count": 5,
   "metadata": {},
   "outputs": [
    {
     "name": "stdout",
     "output_type": "stream",
     "text": [
      "RT @Nathan_Combs_: $2500 #GiveAway of any #Crypto the #Winner chooses!\n",
      "\n",
      "Like, Retweet and must be Following me!\n",
      "\n",
      "#XRP #DOGE #SHIBA #VET #ONE #ADA #BNB #ETH #VRA #LINK #TEL #SYLO #DSLA #HYDRA #FEG #LUNA #SAFEMOON #XLM #XRP #PRIZE #DogeArmy #ShibaArmy #Bitcoin\n",
      "Marathon mining try to censorate #bitcoin american psychos. Fuck you for evenattempting this. The whole world should fork away from USA.\n",
      "RT @PeterSchiff: I have a question for HODLers. If #Bitcoin crashes below $20K will you be excited about the opportunity to buy more sats, or will you regret not selling any when Bitcoin was above $60K?\n",
      "RT @alistairmilne: RT if you still bullieve\n",
      "#Bitcoin\n",
      "@Lennart_on_mny @AudiOfficial @ElrondWorld Did you look at $flux? @RunOnFlux @coinmetro @presearch \n",
      "$btc $eth $icp $xrp $xmr $xlm $zec $usdt $sfm $pre $sol $rope $kin $bnb #1inch $cake #pancakeswap #SOLANA #shiba #crypto #cryptocurrency #elon #Bitcoin #SAFEMOON #Ethereum #dfinity\n",
      "\n",
      "https://t.co/i4F8q51DwT\n",
      "Jürgen Röder entdeckt die #Grünen \n",
      "#DAX #Bitcoin #Aktien #inflation https://t.co/3kPJ8EX9y1\n",
      "Bitcoin actually has the balance and incentives center, and that is why it is starting to take off.  #Bitcoin #BTC #Crypto\n",
      "Bu çizim yanlış haberiniz olsun. #bitcoin https://t.co/Tif0Jmea2h\n",
      "RT @cryptobcncat: #Bitcoin sube 3k. Reacción de Cripto Twitter? La verdadera Alt Season comienza ahora. Nos vemos en 100k #ToTheMoon es TT 🚀\n",
      "\n",
      "#BTC baja 3k. Reacción de Cripto Twitter? Cierra Binance y no vuelvas hasta 2024. #BTC a 10k y las ALTs 0. Debería haber dejado el dinero en el banco 😢\n",
      "RT @cryptokenspace: 🎉 2BNB GIVEAWAY! 🎉\n",
      "\n",
      "To enter:\n",
      "- Follow @cryptokenspace ✅\n",
      "- Retweet This Tweet ♻️\n",
      "- Tag A Friend 🫂\n",
      "- Comment Your Favourite #altcoin 🚀\n",
      "\n",
      "Deadline: 1st June 2021 🤑\n",
      "\n",
      "#bitcoin #cryptocurrency #cryptonews #cryptotwitter #cryptocurrencies #cryptomoonshots #binance #bsc #crypto https://t.co/M94lPdw68H\n",
      "RT @michael_saylor: “It does not matter how slowly you go as long as you do not stop.” - Confucius on #Bitcoin\n",
      "RT @JessicaVaugn: #Indy500 #Bitcoin 🏁 https://t.co/iUPMDwnFfJ\n",
      "Inflation Threats in the United States and the Future of Cryptocurrency\n",
      "\n",
      "#Bitcoin #Crypto \n",
      "https://t.co/QKXXZNT5Zr\n",
      "RT @Nathan_Combs_: $2500 #GiveAway of any #Crypto the #Winner chooses!\n",
      "\n",
      "Like, Retweet and must be Following me!\n",
      "\n",
      "#XRP #DOGE #SHIBA #VET #ONE #ADA #BNB #ETH #VRA #LINK #TEL #SYLO #DSLA #HYDRA #FEG #LUNA #SAFEMOON #XLM #XRP #PRIZE #DogeArmy #ShibaArmy #Bitcoin\n",
      "@AltcoinDailyio @mcuban @defichain brings #DeFi to #Bitcoin - can’t wait for when we finally have real working tokenization in crypto!\n",
      "\n",
      "Stocking up on $DFI via #liquiditymining (&gt; 100% APY) before FOMO kicks in 🥳\n",
      "\n",
      "What do you think about it? 🤑🧐\n",
      "Hi - I've been using Coinbase which makes it really easy and safe to buy, sell, and store digital currency (like Bitcoin). Sign up now and get £7.06 of free Bitcoin. Claim your invite now: https://t.co/dSRfDHoP6b \n",
      "#coinbase #crypto #bitcoin\n",
      "RT @j3rk1e: 1/3 - Ever Wonder what a Whirlpool is?\n",
      "@SamouraiWallet #Whirlpool is a free and open source (FOSS), non custodial, chaumian #CoinJoin platform. Its goal is to mathematically disassociate the ownership of inputs to outputs in a given #bitcoin transaction. https://t.co/b86LHDTMnY\n",
      "RT @CoinMarketCap: Have you created your crypto watchlist and if so what cryptocurrencies are in it? \n",
      "\n",
      "If you haven't you can get started on the link below. \n",
      "\n",
      "https://t.co/X11xz60tZb\n",
      "\n",
      "#Crypto #Cryptocurrency #Altcoin #CoinMarketCap #DeFi #Bitcoin #NFT #NFTs https://t.co/wVbGo499CD\n",
      "RT @BITCOIN_AL_DIA: Análisis del mercado de criptomonedas.\n",
      "Retuitead por favor.\n",
      "Gracias!\n",
      "#Bitcoin, a punto de romper la línea de tendencia bajista, el movimiento ... https://t.co/nLCsvNBFt2\n",
      "Günaydın arkadaşlar :) İstediğiniz bir #altkoin varsa analizine bakalım. #kriptopara #bitcoin $btc #BTC  $xym #binance #kripto #altcoin #altcoins #1Hazirandanitibaren #GezideSoeylemistik #bitcicoin #BitTorrent #bitcointurkiye\n",
      "Ich könnte Heute ein Heilmittel gegen Krebs erfinden.\n",
      "Spätestens morgen würden Teile von Medien und Gesellschaft den CO2-Fußabdruck dafür kritisieren. #bitcoin\n",
      "@koshuinu @Airdrop I really hope to get this airdrop surprise, thank you!\n",
      "@wqe05082984   @9kAWmUZ17m2LvKf  @U5gNmYgBHUayNgX@1638753450q @gustina_aria\n",
      "#Airdrop #Bitcoin\n",
      "#entrepreneurs #selfemployed #AffiliateMarketing #DigitalMarketing #EmailMarketing   Check my website for  #crypto sites! #bitcoin #dogecoin #affiliatemarketing #doge #DogecoinToTheMoon #Dogecoinarmy https://t.co/h4JkojD9Tx\n",
      "RT @bitcoindoe: Adonx will also have atomic swap feature, which is is a process of exchanging one cryptocurrency for another without having much work involved  @adon_network #adonx #exchanger #bitcoin  https://t.co/cipvKp2mZN\n",
      "RT @PPumpurs: #China!? lol #BITCOIN is more powerful than an authoritarian regime. https://t.co/J4Ho4Mbcrw\n",
      "#linkedin #twitter #facebook #instagram #tumblr #socialmedia #pinterest #google #deal #gift #anniversary #gifts #giftideas #shop #shopping #affiliatemarketing #bitcoin #dogecoin Manage All Of Your Social Media Content https://t.co/BaEaME0RyS\n",
      "RT @CryptoWhale: #Bitcoin is set to close it’s worst month in its entire history, down 38%\n",
      "\n",
      "It was also just last month at the peak when Michael Saylor told his followers to max out their mortgages and go all in.\n",
      "\n",
      "These reckless and corrupt moon boys are leading their followers to financial ruin!\n",
      "#Bitcoin vs #Ethereum \n",
      "Person ask which will you choose\n",
      "You don't know market value,not company prospectus,not anything about both companies\n",
      "But\n",
      "I heard #Ethereum donated 90% for #Humanity\n",
      "If a #leader is ready to go 1st to 100th for #Humanity on #Time \n",
      "Maybe #company #trustable\n"
     ]
    }
   ],
   "source": [
    "from pattern.web import Twitter\n",
    "t = Twitter()\n",
    "i = None\n",
    "for j in range(3):\n",
    "    for tweet in t.search('#bitcoin', start=i, count=10):\n",
    "        print(tweet.text)\n",
    "        print\n",
    "        i = tweet.id"
   ]
  },
  {
   "cell_type": "code",
   "execution_count": null,
   "metadata": {},
   "outputs": [],
   "source": []
  }
 ],
 "metadata": {
  "kernelspec": {
   "display_name": "Python [conda env:pyvizenv] *",
   "language": "python",
   "name": "conda-env-pyvizenv-py"
  },
  "language_info": {
   "codemirror_mode": {
    "name": "ipython",
    "version": 3
   },
   "file_extension": ".py",
   "mimetype": "text/x-python",
   "name": "python",
   "nbconvert_exporter": "python",
   "pygments_lexer": "ipython3",
   "version": "3.7.9"
  }
 },
 "nbformat": 4,
 "nbformat_minor": 5
}
